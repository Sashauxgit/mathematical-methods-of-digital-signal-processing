{
 "cells": [
  {
   "cell_type": "markdown",
   "metadata": {},
   "source": [
    "# Лабораторная работа №2 по дисциплине \"Математические методы цифровой обработки сигналов\"\n",
    "\n",
    "# Тема: Алгоритм Герцеля\n",
    "\n",
    "#### Выполнил магистрант гр. 9385 Семенов Александр.\n",
    "#### Вариант 7"
   ]
  },
  {
   "cell_type": "markdown",
   "metadata": {},
   "source": [
    "## Постановка задачи\n",
    "**Входные данные:** \n",
    "1) Аудио сигнал $x$ с частотой дискретизации $F=44100 Гц, 16 Bit, Mono, PCM wave file$.\n",
    "\n",
    "2) В сигнале $x$ с помощью DTMF кодирования прописана последовательность различных цифр (и управляющих клавиш) телефона.\n",
    "\n",
    "3) Длина каждого элемента звуковой последовательности $200 mc$, паузы между ними тоже по $200 mc$.\n",
    "\n",
    "**Задача:** С помощью алгоритм Герцеля декодировать сигнал и восстановить исходную последовательность."
   ]
  },
  {
   "cell_type": "markdown",
   "metadata": {},
   "source": [
    "В таблице приведены DTMF тоны различных цифр (и управляющих клавиш) телефона и соответствующих им пар частот:\n",
    "\n",
    "\n",
    "|Группа частот (Гц)|1209|1336|1477|1633|\n",
    "|:-:|:-:|:-:|:-:|:-:|\n",
    "|697|1|2|3|A|\n",
    "|770|4|5|6|B|\n",
    "|852|7|8|9|C|\n",
    "|941|*|0|#|D|"
   ]
  },
  {
   "cell_type": "markdown",
   "metadata": {},
   "source": [
    "## Выполнение работы"
   ]
  },
  {
   "cell_type": "markdown",
   "metadata": {},
   "source": [
    "### 1. Инициализация данных, чтение исходного файла"
   ]
  },
  {
   "cell_type": "code",
   "execution_count": 75,
   "metadata": {},
   "outputs": [],
   "source": [
    "import math\n",
    "import librosa\n",
    "\n",
    "toneTable = {\n",
    "    697: {1209: '1', 1336: '2', 1477: '3', 1633: 'A'},\n",
    "    770: {1209: '4', 1336: '5', 1477: '6', 1633: 'B'},\n",
    "    852: {1209: '7', 1336: '8', 1477: '9', 1633: 'C'},\n",
    "    941: {1209: '*', 1336: '0', 1477: '#', 1633: 'D'},\n",
    "}\n",
    "\n",
    "rate = 44100\n",
    "timeInterval = 200\n",
    "N = rate * timeInterval // 1000\n",
    "\n",
    "x, _ = librosa.load(\"DTMF_Lab7.wav\", sr=rate)"
   ]
  },
  {
   "cell_type": "markdown",
   "metadata": {},
   "source": [
    "### 2. Реализация алгоритма"
   ]
  },
  {
   "cell_type": "code",
   "execution_count": 76,
   "metadata": {},
   "outputs": [],
   "source": [
    "def hertsell(freq, frames, rate):\n",
    "    g1 = g2 = float(0)\n",
    "    for frame in frames:\n",
    "        g1_new = frame + 2*math.cos(2*math.pi*freq/rate)*g1 - g2\n",
    "        g2_new = g1\n",
    "        g1, g2 = g1_new, g2_new\n",
    "        \n",
    "    return math.sqrt(g2**2 + g1**2 - 2*math.cos(2*math.pi*freq/rate)*g1*g2)\n",
    "\n",
    "result = []\n",
    "\n",
    "for i in range(0, 2 * len(x) // (3 * N)):\n",
    "    frames = x[3 * i * N // 2 : 3 * i * N // 2 + N - 1][::-1]\n",
    "    frequencies = sorted(toneTable.keys()) + sorted(toneTable[697].keys())\n",
    "    values = {freq: hertsell(freq, frames, rate) for freq in frequencies}\n",
    "    \n",
    "    toneFreqs = [key for key in values if values[key] >= 500]\n",
    "    result.append(toneTable[min(toneFreqs)][max(toneFreqs)])"
   ]
  },
  {
   "cell_type": "markdown",
   "metadata": {},
   "source": [
    "### 3. Результат"
   ]
  },
  {
   "cell_type": "code",
   "execution_count": 77,
   "metadata": {},
   "outputs": [
    {
     "name": "stdout",
     "output_type": "stream",
     "text": [
      "9#0*1A2B3C4D5*6*\n"
     ]
    }
   ],
   "source": [
    "print(\"\".join(result))"
   ]
  },
  {
   "cell_type": "markdown",
   "metadata": {},
   "source": [
    "Ответ (декодированная последовательность кодов): \n",
    "## _9#0\\*1A2B3C4D5\\*6\\*_"
   ]
  }
 ],
 "metadata": {
  "kernelspec": {
   "display_name": "Python 3",
   "language": "python",
   "name": "python3"
  },
  "language_info": {
   "codemirror_mode": {
    "name": "ipython",
    "version": 3
   },
   "file_extension": ".py",
   "mimetype": "text/x-python",
   "name": "python",
   "nbconvert_exporter": "python",
   "pygments_lexer": "ipython3",
   "version": "3.8.5"
  }
 },
 "nbformat": 4,
 "nbformat_minor": 5
}
