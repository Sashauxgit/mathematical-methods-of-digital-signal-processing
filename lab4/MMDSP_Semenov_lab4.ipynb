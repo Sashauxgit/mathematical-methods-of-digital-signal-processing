{
 "cells": [
  {
   "cell_type": "markdown",
   "metadata": {},
   "source": [
    "# Лабораторная работа №4 по дисциплине \"Математические методы цифровой обработки сигналов\"\n",
    "\n",
    "# Тема: Алгоритм Карплуса-Стронга\n",
    "\n",
    "#### Выполнил магистрант гр. 9385, Семенов Александр."
   ]
  },
  {
   "cell_type": "markdown",
   "metadata": {},
   "source": [
    "## Постановка задачи\n",
    "**Цель работы:**  исследовать работу алгоритма Карплуса-Стронга на различных аккордах с различными параметрами.\n",
    "\n",
    "**Задачи работы:**\n",
    "1) Реализовать базовый алгоритм Карплуса-Стронга;\n",
    "2) Провести эксперименты с различным выбором начальной последовательности;\n",
    "3) Провести эксперименты с модификациями алгоритма Карплуса-Стронга;\n",
    "4) Реализовать выбранное трезвучие из таблицы 1."
   ]
  },
  {
   "cell_type": "markdown",
   "metadata": {},
   "source": [
    "## Генерация аккордов\n",
    "\n",
    "1. В качестве базовой частоты $f_0$ берем $130.82\\;Гц\\;-$ до малой октавы.\n",
    "2. Нота с номером $k$ вычисляется по формуле: $f_k=f_0*2^{\\frac{k}{12}},\\;k=1,2,...$\n",
    "3. Мажорные и минормные аккорды состоят из трех звуков. В таблице 1 представлены основные аккорды:\n",
    "\n",
    "|Тональность|Номера нот|Тональность|Номера нот|\n",
    "|:-:|:-:|:-:|:-:|\n",
    "|До мажор|{0, 4, 7}|До диез минор|{1, 4, 8}|\n",
    "|До диез мажор|{1, 5, 8}|Ре минор|{2, 5, 9}|\n",
    "|Ре мажор|{2, 6, 9}|Ре диез минор|{3, 6, 9}|\n",
    "|Ре диез мажор|{3, 7, 10}|Ми минор|{4, 7, 11}|\n",
    "|Ми мажор|{4, 8, 11}|Фа диез минор|{6, 9, 13}|\n",
    "|Фа мажор|{5, 9, 12}|Соль диез минор|{8, 11, 15}|\n",
    "|Фа диез мажор|{6, 10, 13}|Ля минор|{9, 13, 16}|\n",
    "|Соль диез мажор|{8, 12, 15}|Си минор|{11, 14, 18}|\n",
    "|Ля диез мажор|{10, 14, 15}||\n",
    "\n",
    "_Таблица 1_"
   ]
  },
  {
   "cell_type": "markdown",
   "metadata": {},
   "source": [
    "## Выполнение работы"
   ]
  },
  {
   "cell_type": "markdown",
   "metadata": {},
   "source": [
    "### 1. Инициализация параметров и функции отрисовки осцилограммы:"
   ]
  },
  {
   "cell_type": "code",
   "execution_count": 6,
   "metadata": {},
   "outputs": [],
   "source": [
    "import librosa\n",
    "import matplotlib.pyplot as plt\n",
    "from scipy import signal\n",
    "import scipy\n",
    "import soundfile as sf\n",
    "import numpy as np\n",
    "\n",
    "f0 = 130.82\n",
    "fd = 16000\n",
    "note_duration = 3 # sec\n",
    "note_delay_size = int(0.1 * fd)\n",
    "\n",
    "\n",
    "def paintGraphics(data, framerate, b, a = 0):\n",
    "    # a - Правая граница\n",
    "    # b - Левая граница\n",
    "\n",
    "    N = b - a # Вычисляем количество точек осциллограммы сигнала\n",
    "    n = 400 # Задаем количество точек огибающей\n",
    "    m = int(N/n) # Вычисляем число точек в интервале усреднения\n",
    "    x = data[a:b] # Строим массив значений осциллограммы сигнала\n",
    "    y = [np.mean([abs(x[k]) for k in range(m*j, m*(j+1))]) for j in range(n)] # Строим список значений огибающей\n",
    "\n",
    "    timeSignal = np.arange(a, b) / framerate # Строим массив точек времени для осциллограммы сигнала\n",
    "    timeOgib = np.arange(a, m*n + a, m) / framerate # Строим массив точек времени для огибающей\n",
    "\n",
    "    plt.figure(figsize = [15, 15])\n",
    "    plt.plot(timeSignal, x, color = 'blue',  linewidth = 0.3, label = \"Осциллограмма сигнала\") # Строим осциллограмму сигнала\n",
    "    plt.plot(  timeOgib, y, color = 'red',   linewidth = 1.5, label = \"Огибающая\") # Строим огибающую\n",
    "    plt.legend()\n",
    "    plt.xlabel(\"time (seconds)\")\n",
    "    plt.title(\"Осциллограмма сигнала и огибающая\")\n",
    "    plt.grid()\n",
    "\n",
    "    plt.show()"
   ]
  },
  {
   "cell_type": "markdown",
   "metadata": {},
   "source": [
    "### 2. Реализация алгоритма:"
   ]
  },
  {
   "cell_type": "code",
   "execution_count": 4,
   "metadata": {},
   "outputs": [],
   "source": [
    "def karplus_strong(fd, fs, raspred, attenuation, alpha):\n",
    "    N = int(fd / fs - 1/2)\n",
    "    note_size = fd * note_duration\n",
    "    \n",
    "    y = np.zeros(note_size)\n",
    "    y[-1] = 0\n",
    "\n",
    "    y[0:N] =  raspred   # np.random.normal(0, 1, N) - normal\n",
    "                        # np.random.uniform(-1, 1, N) - uniform\n",
    "\n",
    "    for n in range(N, note_size):\n",
    "        if alpha is None:\n",
    "            y[n] = attenuation * 0.5 * (y[n - N] + y[n - N - 1])\n",
    "        else:\n",
    "            y[n] = attenuation * 0.5 * ((1 - alpha) * y[n - N] + alpha * y[n - N - 1])\n",
    "\n",
    "    return y"
   ]
  }
 ],
 "metadata": {
  "kernelspec": {
   "display_name": "Python 3",
   "language": "python",
   "name": "python3"
  },
  "language_info": {
   "codemirror_mode": {
    "name": "ipython",
    "version": 3
   },
   "file_extension": ".py",
   "mimetype": "text/x-python",
   "name": "python",
   "nbconvert_exporter": "python",
   "pygments_lexer": "ipython3",
   "version": "3.10.12"
  }
 },
 "nbformat": 4,
 "nbformat_minor": 2
}
